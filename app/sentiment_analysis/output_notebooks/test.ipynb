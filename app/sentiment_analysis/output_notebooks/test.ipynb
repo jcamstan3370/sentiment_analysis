{
 "cells": [
  {
   "cell_type": "code",
   "execution_count": 1,
   "metadata": {
    "papermill": {
     "duration": 0.018176,
     "end_time": "2020-05-15T00:23:36.307119",
     "exception": false,
     "start_time": "2020-05-15T00:23:36.288943",
     "status": "completed"
    },
    "tags": [
     "parameters"
    ]
   },
   "outputs": [
    {
     "name": "stdout",
     "output_type": "stream",
     "text": [
      "Test Is Working...\n"
     ]
    }
   ],
   "source": [
    "print('Test Is Working...')\n",
    "\n",
    "# Papermill will Overwrite This\n",
    "pm_params = {}"
   ]
  },
  {
   "cell_type": "code",
   "execution_count": 2,
   "metadata": {
    "papermill": {
     "duration": 0.018187,
     "end_time": "2020-05-15T00:23:36.329987",
     "exception": false,
     "start_time": "2020-05-15T00:23:36.311800",
     "status": "completed"
    },
    "tags": [
     "injected-parameters"
    ]
   },
   "outputs": [],
   "source": [
    "# Parameters\n",
    "pm_params = {\"experiment_name\": \"Test Experiment\", \"uri\": \"file:///Users/Jared/GitHub/sentiment_analysis/app/mlruns\", \"run_id\": \"bb95f7b635fe4d85ad3f86b78184dc7f\"}\n"
   ]
  },
  {
   "cell_type": "code",
   "execution_count": 3,
   "metadata": {
    "papermill": {
     "duration": 0.011735,
     "end_time": "2020-05-15T00:23:36.344906",
     "exception": false,
     "start_time": "2020-05-15T00:23:36.333171",
     "status": "completed"
    },
    "tags": []
   },
   "outputs": [
    {
     "name": "stdout",
     "output_type": "stream",
     "text": [
      "{'experiment_name': 'Test Experiment', 'uri': 'file:///Users/Jared/GitHub/sentiment_analysis/app/mlruns', 'run_id': 'bb95f7b635fe4d85ad3f86b78184dc7f'}\n"
     ]
    }
   ],
   "source": [
    "print(pm_params)"
   ]
  }
 ],
 "metadata": {
  "celltoolbar": "Tags",
  "kernelspec": {
   "display_name": "Python 3",
   "language": "python",
   "name": "python3"
  },
  "language_info": {
   "codemirror_mode": {
    "name": "ipython",
    "version": 3
   },
   "file_extension": ".py",
   "mimetype": "text/x-python",
   "name": "python",
   "nbconvert_exporter": "python",
   "pygments_lexer": "ipython3",
   "version": "3.6.9"
  },
  "papermill": {
   "duration": 1.339636,
   "end_time": "2020-05-15T00:23:36.663456",
   "environment_variables": {},
   "exception": null,
   "input_path": "./input_notebooks/test.ipynb",
   "output_path": "./output_notebooks/test.ipynb",
   "parameters": {
    "pm_params": {
     "experiment_name": "Test Experiment",
     "run_id": "bb95f7b635fe4d85ad3f86b78184dc7f",
     "uri": "file:///Users/Jared/GitHub/sentiment_analysis/app/mlruns"
    }
   },
   "start_time": "2020-05-15T00:23:35.323820",
   "version": "1.0.1"
  }
 },
 "nbformat": 4,
 "nbformat_minor": 2
}